{
 "cells": [
  {
   "cell_type": "markdown",
   "metadata": {},
   "source": [
    "# Cleaning the Crime data "
   ]
  },
  {
   "cell_type": "code",
   "execution_count": 5,
   "metadata": {},
   "outputs": [],
   "source": [
    "import pandas as pd\n",
    "import matplotlib as plt\n",
    "import os\n"
   ]
  },
  {
   "cell_type": "code",
   "execution_count": 6,
   "metadata": {},
   "outputs": [],
   "source": [
    "\n",
    "path = '../data/police_zips/unzipped_data'    \n",
    "\n",
    "# find all csv file paths\n",
    "csv_names = []\n",
    "for folder in os.listdir(path):\n",
    "        \n",
    "            folder_contents = os.listdir(f'{path}/{folder}')\n",
    "            \n",
    "            for file in folder_contents:\n",
    "                \n",
    "                if file.endswith('city-of-london-street.csv'):\n",
    "                    \n",
    "                    csv_names.append(f'{path}/{folder}/{file}')\n",
    "\n",
    "        \n",
    "                if file.endswith('metropolitan-street.csv'):\n",
    "                    \n",
    "                    csv_names.append(f'{path}/{folder}/{file}')\n",
    "        \n",
    "        \n",
    "street = pd.concat([pd.read_csv(csv) for csv in csv_names], ignore_index=True)\n"
   ]
  },
  {
   "cell_type": "code",
   "execution_count": 7,
   "metadata": {},
   "outputs": [],
   "source": [
    "\n",
    "\n",
    "# find all csv file paths\n",
    "csv_names = []\n",
    "for folder in os.listdir(path):\n",
    "        \n",
    "            folder_contents = os.listdir(f'{path}/{folder}')\n",
    "            \n",
    "            for file in folder_contents:\n",
    "                \n",
    "                if file.endswith('city-of-london-outcomes.csv'):\n",
    "                    \n",
    "                    csv_names.append(f'{path}/{folder}/{file}')\n",
    "\n",
    "        \n",
    "                if file.endswith('metropolitan-outcomes.csv'):\n",
    "                    \n",
    "                    csv_names.append(f'{path}/{folder}/{file}')\n",
    "        \n",
    "        \n",
    "outcomes = pd.concat([pd.read_csv(csv) for csv in csv_names], ignore_index=True)\n"
   ]
  },
  {
   "cell_type": "code",
   "execution_count": 8,
   "metadata": {},
   "outputs": [],
   "source": [
    "# save df to csv\n",
    "street.to_csv('../data/london_street_crime_sep14_nov24.csv')\n",
    "outcomes.to_csv('../data/london_outcomes_crime_sep14_nov24.csv')"
   ]
  }
 ],
 "metadata": {
  "kernelspec": {
   "display_name": "Python 3",
   "language": "python",
   "name": "python3"
  },
  "language_info": {
   "codemirror_mode": {
    "name": "ipython",
    "version": 3
   },
   "file_extension": ".py",
   "mimetype": "text/x-python",
   "name": "python",
   "nbconvert_exporter": "python",
   "pygments_lexer": "ipython3",
   "version": "3.12.9"
  }
 },
 "nbformat": 4,
 "nbformat_minor": 2
}
