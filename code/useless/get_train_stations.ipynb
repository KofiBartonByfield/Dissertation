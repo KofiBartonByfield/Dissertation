{
 "cells": [
  {
   "cell_type": "markdown",
   "metadata": {},
   "source": [
    "## Trainline GitHub Dataset\n",
    "Locating the locations of all the train stations in the UK\n",
    "\n",
    "https://github.com/trainline-eu\n"
   ]
  },
  {
   "cell_type": "code",
   "execution_count": 14,
   "metadata": {},
   "outputs": [],
   "source": [
    "import pandas as pd"
   ]
  },
  {
   "cell_type": "code",
   "execution_count": null,
   "metadata": {},
   "outputs": [
    {
     "name": "stderr",
     "output_type": "stream",
     "text": [
      "C:\\Users\\15kof\\AppData\\Local\\Temp\\ipykernel_21944\\3708986103.py:1: DtypeWarning: Columns (16,17,19,23,25,31,35,39,40,42,46,48,50,56,57,59,60,61,62,63,64,65,68,69,71,72,75) have mixed types. Specify dtype option on import or set low_memory=False.\n",
      "  stations = pd.read_csv('https://raw.githubusercontent.com/trainline-eu/stations/refs/heads/master/stations.csv',\n"
     ]
    }
   ],
   "source": [
    "stations = pd.read_csv('https://raw.githubusercontent.com/trainline-eu/stations/refs/heads/master/stations.csv', \n",
    "                       sep=';')\n",
    "\n",
    "\n",
    "stations = stations[stations['country'] == 'GB']\n",
    "stations_df = stations[['latitude', 'longitude']].reset_index(drop=True)\n",
    "\n",
    "\n",
    "\n",
    "stations"
   ]
  },
  {
   "cell_type": "code",
   "execution_count": null,
   "metadata": {},
   "outputs": [
    {
     "data": {
      "application/vnd.microsoft.datawrangler.viewer.v0+json": {
       "columns": [
        {
         "name": "index",
         "rawType": "int64",
         "type": "integer"
        },
        {
         "name": "latitude",
         "rawType": "float64",
         "type": "float"
        },
        {
         "name": "longitude",
         "rawType": "float64",
         "type": "float"
        }
       ],
       "conversionMethod": "pd.DataFrame",
       "ref": "4cc66ffa-44f2-4c6d-8777-1664a52535f9",
       "rows": [
        [
         "0",
         "51.531921",
         "-0.126361"
        ],
        [
         "1",
         "50.907742",
         "-1.413983"
        ],
        [
         "2",
         "53.40525",
         "-2.977841"
        ],
        [
         "3",
         "53.605507",
         "-0.267936"
        ],
        [
         "4",
         "53.574219",
         "-0.409679"
        ],
        [
         "5",
         "56.317043",
         "-3.008772"
        ],
        [
         "6",
         "54.529449",
         "-1.349426"
        ],
        [
         "7",
         "51.191132",
         "0.269715"
        ],
        [
         "8",
         "52.328613",
         "-0.192047"
        ],
        [
         "9",
         "56.034725",
         "-3.39621"
        ],
        [
         "10",
         "50.786594",
         "-0.676384"
        ],
        [
         "11",
         "57.609661",
         "-3.62847"
        ],
        [
         "12",
         "56.375427",
         "-2.893734"
        ],
        [
         "13",
         "53.320911",
         "-3.827043"
        ],
        [
         "14",
         "54.579086",
         "-1.232596"
        ],
        [
         "15",
         "56.71286",
         "-2.47207"
        ],
        [
         "16",
         "53.804573",
         "-1.679581"
        ],
        [
         "17",
         "50.415245",
         "-5.075769"
        ],
        [
         "18",
         "54.333084",
         "-1.441718"
        ],
        [
         "19",
         "50.434658",
         "-3.564361"
        ],
        [
         "20",
         "50.12162",
         "-5.532489"
        ],
        [
         "21",
         "53.315872",
         "-0.94772"
        ],
        [
         "22",
         "53.78336",
         "-1.06355"
        ],
        [
         "23",
         "54.2798",
         "-0.405666"
        ],
        [
         "24",
         "54.56971",
         "-1.31784"
        ],
        [
         "25",
         "56.966888",
         "-2.225286"
        ],
        [
         "26",
         "54.90617",
         "-1.382357"
        ],
        [
         "27",
         "54.228489",
         "-1.372573"
        ],
        [
         "28",
         "53.681736",
         "-1.506386"
        ],
        [
         "29",
         "51.477779",
         "-0.014198"
        ],
        [
         "30",
         "55.991863",
         "-3.792276"
        ],
        [
         "31",
         "56.274902",
         "-3.7312"
        ],
        [
         "32",
         "55.791927",
         "-3.995234"
        ],
        [
         "33",
         "56.39275",
         "-3.440068"
        ],
        [
         "34",
         "56.119114",
         "-3.934915"
        ],
        [
         "35",
         "50.796097",
         "-1.108895"
        ],
        [
         "36",
         "53.744144",
         "-0.345645"
        ],
        [
         "37",
         "50.692425",
         "-2.114646"
        ],
        [
         "38",
         "50.61515",
         "-2.455103"
        ],
        [
         "39",
         "57.613129",
         "-4.688429"
        ],
        [
         "40",
         "51.067303",
         "-1.320628"
        ],
        [
         "41",
         "53.100414",
         "-1.369689"
        ],
        [
         "42",
         "52.631397",
         "-1.125274"
        ],
        [
         "43",
         "51.947701",
         "1.255167"
        ],
        [
         "44",
         "50.445822",
         "-4.663026"
        ],
        [
         "45",
         "51.853233",
         "-4.305732"
        ],
        [
         "46",
         "50.446711",
         "-4.46753"
        ],
        [
         "47",
         "51.673405",
         "-4.162068"
        ],
        [
         "48",
         "50.40744",
         "-4.665497"
        ],
        [
         "49",
         "51.715977",
         "-5.041485"
        ]
       ],
       "shape": {
        "columns": 2,
        "rows": 2788
       }
      },
      "text/html": [
       "<div>\n",
       "<style scoped>\n",
       "    .dataframe tbody tr th:only-of-type {\n",
       "        vertical-align: middle;\n",
       "    }\n",
       "\n",
       "    .dataframe tbody tr th {\n",
       "        vertical-align: top;\n",
       "    }\n",
       "\n",
       "    .dataframe thead th {\n",
       "        text-align: right;\n",
       "    }\n",
       "</style>\n",
       "<table border=\"1\" class=\"dataframe\">\n",
       "  <thead>\n",
       "    <tr style=\"text-align: right;\">\n",
       "      <th></th>\n",
       "      <th>latitude</th>\n",
       "      <th>longitude</th>\n",
       "    </tr>\n",
       "  </thead>\n",
       "  <tbody>\n",
       "    <tr>\n",
       "      <th>0</th>\n",
       "      <td>51.531921</td>\n",
       "      <td>-0.126361</td>\n",
       "    </tr>\n",
       "    <tr>\n",
       "      <th>1</th>\n",
       "      <td>50.907742</td>\n",
       "      <td>-1.413983</td>\n",
       "    </tr>\n",
       "    <tr>\n",
       "      <th>2</th>\n",
       "      <td>53.405250</td>\n",
       "      <td>-2.977841</td>\n",
       "    </tr>\n",
       "    <tr>\n",
       "      <th>3</th>\n",
       "      <td>53.605507</td>\n",
       "      <td>-0.267936</td>\n",
       "    </tr>\n",
       "    <tr>\n",
       "      <th>4</th>\n",
       "      <td>53.574219</td>\n",
       "      <td>-0.409679</td>\n",
       "    </tr>\n",
       "    <tr>\n",
       "      <th>...</th>\n",
       "      <td>...</td>\n",
       "      <td>...</td>\n",
       "    </tr>\n",
       "    <tr>\n",
       "      <th>2783</th>\n",
       "      <td>52.191230</td>\n",
       "      <td>-2.222310</td>\n",
       "    </tr>\n",
       "    <tr>\n",
       "      <th>2784</th>\n",
       "      <td>53.046000</td>\n",
       "      <td>-2.993000</td>\n",
       "    </tr>\n",
       "    <tr>\n",
       "      <th>2785</th>\n",
       "      <td>50.945200</td>\n",
       "      <td>-2.637000</td>\n",
       "    </tr>\n",
       "    <tr>\n",
       "      <th>2786</th>\n",
       "      <td>51.128079</td>\n",
       "      <td>1.315000</td>\n",
       "    </tr>\n",
       "    <tr>\n",
       "      <th>2787</th>\n",
       "      <td>52.040622</td>\n",
       "      <td>-0.759417</td>\n",
       "    </tr>\n",
       "  </tbody>\n",
       "</table>\n",
       "<p>2788 rows × 2 columns</p>\n",
       "</div>"
      ],
      "text/plain": [
       "       latitude  longitude\n",
       "0     51.531921  -0.126361\n",
       "1     50.907742  -1.413983\n",
       "2     53.405250  -2.977841\n",
       "3     53.605507  -0.267936\n",
       "4     53.574219  -0.409679\n",
       "...         ...        ...\n",
       "2783  52.191230  -2.222310\n",
       "2784  53.046000  -2.993000\n",
       "2785  50.945200  -2.637000\n",
       "2786  51.128079   1.315000\n",
       "2787  52.040622  -0.759417\n",
       "\n",
       "[2788 rows x 2 columns]"
      ]
     },
     "execution_count": 29,
     "metadata": {},
     "output_type": "execute_result"
    }
   ],
   "source": []
  }
 ],
 "metadata": {
  "kernelspec": {
   "display_name": "Python 3",
   "language": "python",
   "name": "python3"
  },
  "language_info": {
   "codemirror_mode": {
    "name": "ipython",
    "version": 3
   },
   "file_extension": ".py",
   "mimetype": "text/x-python",
   "name": "python",
   "nbconvert_exporter": "python",
   "pygments_lexer": "ipython3",
   "version": "3.12.9"
  }
 },
 "nbformat": 4,
 "nbformat_minor": 2
}
