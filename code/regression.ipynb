{
 "cells": [
  {
   "cell_type": "code",
   "execution_count": 3,
   "id": "a342b682",
   "metadata": {
    "vscode": {
     "languageId": "r"
    }
   },
   "outputs": [
    {
     "data": {
      "text/html": [
       "<table class=\"dataframe\">\n",
       "<caption>A data.frame: 6 × 13</caption>\n",
       "<thead>\n",
       "\t<tr><th></th><th scope=col>X</th><th scope=col>LSOA21CD</th><th scope=col>StopCountDrugs</th><th scope=col>ArrestOutcome</th><th scope=col>DistToTrainStation</th><th scope=col>StopCount</th><th scope=col>Borough</th><th scope=col>Population</th><th scope=col>NonWhitePopulationPercentage</th><th scope=col>IncomeDomainScore</th><th scope=col>CrimeSum</th><th scope=col>DrugCrimeSum</th><th scope=col>MeanHousePrice</th></tr>\n",
       "\t<tr><th></th><th scope=col>&lt;int&gt;</th><th scope=col>&lt;chr&gt;</th><th scope=col>&lt;dbl&gt;</th><th scope=col>&lt;dbl&gt;</th><th scope=col>&lt;dbl&gt;</th><th scope=col>&lt;dbl&gt;</th><th scope=col>&lt;chr&gt;</th><th scope=col>&lt;int&gt;</th><th scope=col>&lt;dbl&gt;</th><th scope=col>&lt;dbl&gt;</th><th scope=col>&lt;dbl&gt;</th><th scope=col>&lt;dbl&gt;</th><th scope=col>&lt;dbl&gt;</th></tr>\n",
       "</thead>\n",
       "<tbody>\n",
       "\t<tr><th scope=row>1</th><td>0</td><td>E01006434</td><td> 99</td><td> 7</td><td>2017.80</td><td>114</td><td>Knowsley</td><td>1518</td><td>1.91</td><td>0.361</td><td>234</td><td>27</td><td>123955</td></tr>\n",
       "\t<tr><th scope=row>2</th><td>1</td><td>E01006435</td><td> 91</td><td> 6</td><td>1844.68</td><td>113</td><td>Knowsley</td><td>1524</td><td>3.35</td><td>0.370</td><td>150</td><td>18</td><td>134664</td></tr>\n",
       "\t<tr><th scope=row>3</th><td>2</td><td>E01006436</td><td>200</td><td> 8</td><td>1446.13</td><td>226</td><td>Knowsley</td><td>1457</td><td>3.29</td><td>0.384</td><td>317</td><td>59</td><td>111733</td></tr>\n",
       "\t<tr><th scope=row>4</th><td>3</td><td>E01006437</td><td>560</td><td>35</td><td>1164.51</td><td>673</td><td>Knowsley</td><td>1387</td><td>3.03</td><td>0.326</td><td>941</td><td>77</td><td>119648</td></tr>\n",
       "\t<tr><th scope=row>5</th><td>4</td><td>E01006438</td><td> 43</td><td> 3</td><td>4154.79</td><td> 52</td><td>Knowsley</td><td>1153</td><td>5.29</td><td>0.099</td><td> 92</td><td> 7</td><td>331221</td></tr>\n",
       "\t<tr><th scope=row>6</th><td>5</td><td>E01006439</td><td>  1</td><td> 0</td><td>4591.50</td><td>  2</td><td>Knowsley</td><td>1657</td><td>2.96</td><td>0.220</td><td>154</td><td> 3</td><td>240177</td></tr>\n",
       "</tbody>\n",
       "</table>\n"
      ],
      "text/latex": [
       "A data.frame: 6 × 13\n",
       "\\begin{tabular}{r|lllllllllllll}\n",
       "  & X & LSOA21CD & StopCountDrugs & ArrestOutcome & DistToTrainStation & StopCount & Borough & Population & NonWhitePopulationPercentage & IncomeDomainScore & CrimeSum & DrugCrimeSum & MeanHousePrice\\\\\n",
       "  & <int> & <chr> & <dbl> & <dbl> & <dbl> & <dbl> & <chr> & <int> & <dbl> & <dbl> & <dbl> & <dbl> & <dbl>\\\\\n",
       "\\hline\n",
       "\t1 & 0 & E01006434 &  99 &  7 & 2017.80 & 114 & Knowsley & 1518 & 1.91 & 0.361 & 234 & 27 & 123955\\\\\n",
       "\t2 & 1 & E01006435 &  91 &  6 & 1844.68 & 113 & Knowsley & 1524 & 3.35 & 0.370 & 150 & 18 & 134664\\\\\n",
       "\t3 & 2 & E01006436 & 200 &  8 & 1446.13 & 226 & Knowsley & 1457 & 3.29 & 0.384 & 317 & 59 & 111733\\\\\n",
       "\t4 & 3 & E01006437 & 560 & 35 & 1164.51 & 673 & Knowsley & 1387 & 3.03 & 0.326 & 941 & 77 & 119648\\\\\n",
       "\t5 & 4 & E01006438 &  43 &  3 & 4154.79 &  52 & Knowsley & 1153 & 5.29 & 0.099 &  92 &  7 & 331221\\\\\n",
       "\t6 & 5 & E01006439 &   1 &  0 & 4591.50 &   2 & Knowsley & 1657 & 2.96 & 0.220 & 154 &  3 & 240177\\\\\n",
       "\\end{tabular}\n"
      ],
      "text/markdown": [
       "\n",
       "A data.frame: 6 × 13\n",
       "\n",
       "| <!--/--> | X &lt;int&gt; | LSOA21CD &lt;chr&gt; | StopCountDrugs &lt;dbl&gt; | ArrestOutcome &lt;dbl&gt; | DistToTrainStation &lt;dbl&gt; | StopCount &lt;dbl&gt; | Borough &lt;chr&gt; | Population &lt;int&gt; | NonWhitePopulationPercentage &lt;dbl&gt; | IncomeDomainScore &lt;dbl&gt; | CrimeSum &lt;dbl&gt; | DrugCrimeSum &lt;dbl&gt; | MeanHousePrice &lt;dbl&gt; |\n",
       "|---|---|---|---|---|---|---|---|---|---|---|---|---|---|\n",
       "| 1 | 0 | E01006434 |  99 |  7 | 2017.80 | 114 | Knowsley | 1518 | 1.91 | 0.361 | 234 | 27 | 123955 |\n",
       "| 2 | 1 | E01006435 |  91 |  6 | 1844.68 | 113 | Knowsley | 1524 | 3.35 | 0.370 | 150 | 18 | 134664 |\n",
       "| 3 | 2 | E01006436 | 200 |  8 | 1446.13 | 226 | Knowsley | 1457 | 3.29 | 0.384 | 317 | 59 | 111733 |\n",
       "| 4 | 3 | E01006437 | 560 | 35 | 1164.51 | 673 | Knowsley | 1387 | 3.03 | 0.326 | 941 | 77 | 119648 |\n",
       "| 5 | 4 | E01006438 |  43 |  3 | 4154.79 |  52 | Knowsley | 1153 | 5.29 | 0.099 |  92 |  7 | 331221 |\n",
       "| 6 | 5 | E01006439 |   1 |  0 | 4591.50 |   2 | Knowsley | 1657 | 2.96 | 0.220 | 154 |  3 | 240177 |\n",
       "\n"
      ],
      "text/plain": [
       "  X LSOA21CD  StopCountDrugs ArrestOutcome DistToTrainStation StopCount\n",
       "1 0 E01006434  99             7            2017.80            114      \n",
       "2 1 E01006435  91             6            1844.68            113      \n",
       "3 2 E01006436 200             8            1446.13            226      \n",
       "4 3 E01006437 560            35            1164.51            673      \n",
       "5 4 E01006438  43             3            4154.79             52      \n",
       "6 5 E01006439   1             0            4591.50              2      \n",
       "  Borough  Population NonWhitePopulationPercentage IncomeDomainScore CrimeSum\n",
       "1 Knowsley 1518       1.91                         0.361             234     \n",
       "2 Knowsley 1524       3.35                         0.370             150     \n",
       "3 Knowsley 1457       3.29                         0.384             317     \n",
       "4 Knowsley 1387       3.03                         0.326             941     \n",
       "5 Knowsley 1153       5.29                         0.099              92     \n",
       "6 Knowsley 1657       2.96                         0.220             154     \n",
       "  DrugCrimeSum MeanHousePrice\n",
       "1 27           123955        \n",
       "2 18           134664        \n",
       "3 59           111733        \n",
       "4 77           119648        \n",
       "5  7           331221        \n",
       "6  3           240177        "
      ]
     },
     "metadata": {},
     "output_type": "display_data"
    }
   ],
   "source": [
    "merseyside <- read.csv('../data/merseyside2022.csv')\n",
    "head(merseyside)"
   ]
  },
  {
   "cell_type": "code",
   "execution_count": null,
   "id": "cc74fd79",
   "metadata": {
    "vscode": {
     "languageId": "r"
    }
   },
   "outputs": [
    {
     "data": {
      "text/plain": [
       "\n",
       "Call:\n",
       "lm(formula = StopCount ~ DistToTrainStation + IncomeDomainScore + \n",
       "    MeanHousePrice, data = merseyside)\n",
       "\n",
       "Residuals:\n",
       "    Min      1Q  Median      3Q     Max \n",
       "-112.51  -27.34   -5.25    9.41  593.16 \n",
       "\n",
       "Coefficients:\n",
       "                     Estimate Std. Error t value Pr(>|t|)    \n",
       "(Intercept)        -3.337e+00  1.045e+01  -0.319  0.74963    \n",
       "DistToTrainStation -7.935e-03  2.541e-03  -3.123  0.00186 ** \n",
       "IncomeDomainScore   2.813e+02  2.241e+01  12.551  < 2e-16 ***\n",
       "MeanHousePrice      5.987e-06  3.011e-05   0.199  0.84245    \n",
       "---\n",
       "Signif. codes:  0 '***' 0.001 '**' 0.01 '*' 0.05 '.' 0.1 ' ' 1\n",
       "\n",
       "Residual standard error: 61.76 on 827 degrees of freedom\n",
       "  (92 observations deleted due to missingness)\n",
       "Multiple R-squared:  0.264,\tAdjusted R-squared:  0.2613 \n",
       "F-statistic: 98.88 on 3 and 827 DF,  p-value: < 2.2e-16\n"
      ]
     },
     "metadata": {},
     "output_type": "display_data"
    }
   ],
   "source": [
    "lm <- lm(StopCount ~ DistToTrainStation + IncomeDomainScore + MeanHousePrice, data = merseyside)\n",
    "\n",
    "\n",
    "summary(lm)"
   ]
  },
  {
   "cell_type": "code",
   "execution_count": 13,
   "id": "26f2cb7d",
   "metadata": {
    "vscode": {
     "languageId": "r"
    }
   },
   "outputs": [
    {
     "name": "stderr",
     "output_type": "stream",
     "text": [
      "NOTE: 92 observations removed because of NA values (RHS: 92).\n",
      "\n"
     ]
    },
    {
     "data": {
      "text/plain": [
       "OLS estimation, Dep. Var.: StopCount\n",
       "Observations: 831\n",
       "Fixed-effects: Borough: 5\n",
       "Standard-errors: Clustered (Borough) \n",
       "                              Estimate Std. Error  t value  Pr(>|t|)    \n",
       "DistToTrainStation            0.000927   0.002533 0.366023 0.7328847    \n",
       "IncomeDomainScore            78.651611  20.197454 3.894135 0.0176288 *  \n",
       "MeanHousePrice                0.000019   0.000026 0.742780 0.4988682    \n",
       "CrimeSum                      0.262373   0.040892 6.416222 0.0030324 ** \n",
       "NonWhitePopulationPercentage  1.074866   0.376503 2.854864 0.0461683 *  \n",
       "---\n",
       "Signif. codes:  0 '***' 0.001 '**' 0.01 '*' 0.05 '.' 0.1 ' ' 1\n",
       "RMSE: 51.5     Adj. R2: 0.479149\n",
       "             Within R2: 0.463184"
      ]
     },
     "metadata": {},
     "output_type": "display_data"
    }
   ],
   "source": [
    "# Load necessary library\n",
    "library(fixest)\n",
    "\n",
    "# Fit a fixed effects model with 'LSOA21CD' as the fixed effect\n",
    "model <- feols(StopCount ~ DistToTrainStation + IncomeDomainScore + MeanHousePrice + CrimeSum + NonWhitePopulationPercentage| Borough, data = merseyside)\n",
    "\n",
    "# Summarise the model\n",
    "summary(model)\n"
   ]
  }
 ],
 "metadata": {
  "kernelspec": {
   "display_name": "R",
   "language": "R",
   "name": "ir"
  },
  "language_info": {
   "codemirror_mode": "r",
   "file_extension": ".r",
   "mimetype": "text/x-r-source",
   "name": "R",
   "pygments_lexer": "r",
   "version": "4.3.2"
  }
 },
 "nbformat": 4,
 "nbformat_minor": 5
}
