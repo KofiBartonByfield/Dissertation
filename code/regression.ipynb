{
 "cells": [
  {
   "cell_type": "code",
   "execution_count": 7,
   "id": "ce796e49",
   "metadata": {
    "vscode": {
     "languageId": "r"
    }
   },
   "outputs": [],
   "source": [
    "library(dplyr)\n"
   ]
  },
  {
   "cell_type": "code",
   "execution_count": 19,
   "id": "a342b682",
   "metadata": {
    "vscode": {
     "languageId": "r"
    }
   },
   "outputs": [
    {
     "data": {
      "text/html": [
       "<table class=\"dataframe\">\n",
       "<caption>A data.frame: 6 × 16</caption>\n",
       "<thead>\n",
       "\t<tr><th></th><th scope=col>StopCount</th><th scope=col>StopCountDrugs</th><th scope=col>LSOA21CD</th><th scope=col>Borough</th><th scope=col>PopulationLSOA</th><th scope=col>BAME</th><th scope=col>IncomeDomainScore</th><th scope=col>CrimeSum</th><th scope=col>DrugCrimeSum</th><th scope=col>MeanHousePrice</th><th scope=col>PoliceDept</th><th scope=col>StopCount_z</th><th scope=col>BAME_z</th><th scope=col>MeanHousePrice_z</th><th scope=col>CrimeSum_z</th><th scope=col>DrugCrimeSum_z</th></tr>\n",
       "\t<tr><th></th><th scope=col>&lt;dbl&gt;</th><th scope=col>&lt;dbl&gt;</th><th scope=col>&lt;chr&gt;</th><th scope=col>&lt;chr&gt;</th><th scope=col>&lt;int&gt;</th><th scope=col>&lt;dbl&gt;</th><th scope=col>&lt;dbl&gt;</th><th scope=col>&lt;dbl&gt;</th><th scope=col>&lt;dbl&gt;</th><th scope=col>&lt;dbl&gt;</th><th scope=col>&lt;chr&gt;</th><th scope=col>&lt;dbl&gt;</th><th scope=col>&lt;dbl&gt;</th><th scope=col>&lt;dbl&gt;</th><th scope=col>&lt;dbl&gt;</th><th scope=col>&lt;dbl&gt;</th></tr>\n",
       "</thead>\n",
       "<tbody>\n",
       "\t<tr><th scope=row>1</th><td>132</td><td>115</td><td>E01006434</td><td>Knowsley</td><td>1518</td><td>1.91</td><td>  932</td><td>228</td><td>23</td><td>123955</td><td>Merseyside</td><td> 0.634</td><td>-0.673</td><td>-0.769</td><td> 0.151</td><td> 0.382</td></tr>\n",
       "\t<tr><th scope=row>2</th><td>109</td><td> 92</td><td>E01006435</td><td>Knowsley</td><td>1524</td><td>3.35</td><td>  782</td><td>149</td><td>18</td><td>134664</td><td>Merseyside</td><td> 0.446</td><td>-0.505</td><td>-0.660</td><td>-0.146</td><td> 0.204</td></tr>\n",
       "\t<tr><th scope=row>3</th><td>305</td><td>267</td><td>E01006436</td><td>Knowsley</td><td>1457</td><td>3.29</td><td>  613</td><td>307</td><td>58</td><td>111733</td><td>Merseyside</td><td> 2.047</td><td>-0.512</td><td>-0.893</td><td> 0.449</td><td> 1.629</td></tr>\n",
       "\t<tr><th scope=row>4</th><td>639</td><td>520</td><td>E01006437</td><td>Knowsley</td><td>1387</td><td>3.03</td><td> 1649</td><td>921</td><td>72</td><td>119648</td><td>Merseyside</td><td> 4.774</td><td>-0.542</td><td>-0.813</td><td> 2.759</td><td> 2.128</td></tr>\n",
       "\t<tr><th scope=row>5</th><td> 38</td><td> 32</td><td>E01006438</td><td>Knowsley</td><td>1153</td><td>5.29</td><td>17818</td><td> 91</td><td> 7</td><td>331221</td><td>Merseyside</td><td>-0.133</td><td>-0.279</td><td> 1.342</td><td>-0.364</td><td>-0.188</td></tr>\n",
       "\t<tr><th scope=row>6</th><td> 25</td><td> 18</td><td>E01006439</td><td>Knowsley</td><td>1657</td><td>2.96</td><td> 5980</td><td>153</td><td> 3</td><td>240177</td><td>Merseyside</td><td>-0.239</td><td>-0.551</td><td> 0.415</td><td>-0.131</td><td>-0.330</td></tr>\n",
       "</tbody>\n",
       "</table>\n"
      ],
      "text/latex": [
       "A data.frame: 6 × 16\n",
       "\\begin{tabular}{r|llllllllllllllll}\n",
       "  & StopCount & StopCountDrugs & LSOA21CD & Borough & PopulationLSOA & BAME & IncomeDomainScore & CrimeSum & DrugCrimeSum & MeanHousePrice & PoliceDept & StopCount\\_z & BAME\\_z & MeanHousePrice\\_z & CrimeSum\\_z & DrugCrimeSum\\_z\\\\\n",
       "  & <dbl> & <dbl> & <chr> & <chr> & <int> & <dbl> & <dbl> & <dbl> & <dbl> & <dbl> & <chr> & <dbl> & <dbl> & <dbl> & <dbl> & <dbl>\\\\\n",
       "\\hline\n",
       "\t1 & 132 & 115 & E01006434 & Knowsley & 1518 & 1.91 &   932 & 228 & 23 & 123955 & Merseyside &  0.634 & -0.673 & -0.769 &  0.151 &  0.382\\\\\n",
       "\t2 & 109 &  92 & E01006435 & Knowsley & 1524 & 3.35 &   782 & 149 & 18 & 134664 & Merseyside &  0.446 & -0.505 & -0.660 & -0.146 &  0.204\\\\\n",
       "\t3 & 305 & 267 & E01006436 & Knowsley & 1457 & 3.29 &   613 & 307 & 58 & 111733 & Merseyside &  2.047 & -0.512 & -0.893 &  0.449 &  1.629\\\\\n",
       "\t4 & 639 & 520 & E01006437 & Knowsley & 1387 & 3.03 &  1649 & 921 & 72 & 119648 & Merseyside &  4.774 & -0.542 & -0.813 &  2.759 &  2.128\\\\\n",
       "\t5 &  38 &  32 & E01006438 & Knowsley & 1153 & 5.29 & 17818 &  91 &  7 & 331221 & Merseyside & -0.133 & -0.279 &  1.342 & -0.364 & -0.188\\\\\n",
       "\t6 &  25 &  18 & E01006439 & Knowsley & 1657 & 2.96 &  5980 & 153 &  3 & 240177 & Merseyside & -0.239 & -0.551 &  0.415 & -0.131 & -0.330\\\\\n",
       "\\end{tabular}\n"
      ],
      "text/markdown": [
       "\n",
       "A data.frame: 6 × 16\n",
       "\n",
       "| <!--/--> | StopCount &lt;dbl&gt; | StopCountDrugs &lt;dbl&gt; | LSOA21CD &lt;chr&gt; | Borough &lt;chr&gt; | PopulationLSOA &lt;int&gt; | BAME &lt;dbl&gt; | IncomeDomainScore &lt;dbl&gt; | CrimeSum &lt;dbl&gt; | DrugCrimeSum &lt;dbl&gt; | MeanHousePrice &lt;dbl&gt; | PoliceDept &lt;chr&gt; | StopCount_z &lt;dbl&gt; | BAME_z &lt;dbl&gt; | MeanHousePrice_z &lt;dbl&gt; | CrimeSum_z &lt;dbl&gt; | DrugCrimeSum_z &lt;dbl&gt; |\n",
       "|---|---|---|---|---|---|---|---|---|---|---|---|---|---|---|---|---|\n",
       "| 1 | 132 | 115 | E01006434 | Knowsley | 1518 | 1.91 |   932 | 228 | 23 | 123955 | Merseyside |  0.634 | -0.673 | -0.769 |  0.151 |  0.382 |\n",
       "| 2 | 109 |  92 | E01006435 | Knowsley | 1524 | 3.35 |   782 | 149 | 18 | 134664 | Merseyside |  0.446 | -0.505 | -0.660 | -0.146 |  0.204 |\n",
       "| 3 | 305 | 267 | E01006436 | Knowsley | 1457 | 3.29 |   613 | 307 | 58 | 111733 | Merseyside |  2.047 | -0.512 | -0.893 |  0.449 |  1.629 |\n",
       "| 4 | 639 | 520 | E01006437 | Knowsley | 1387 | 3.03 |  1649 | 921 | 72 | 119648 | Merseyside |  4.774 | -0.542 | -0.813 |  2.759 |  2.128 |\n",
       "| 5 |  38 |  32 | E01006438 | Knowsley | 1153 | 5.29 | 17818 |  91 |  7 | 331221 | Merseyside | -0.133 | -0.279 |  1.342 | -0.364 | -0.188 |\n",
       "| 6 |  25 |  18 | E01006439 | Knowsley | 1657 | 2.96 |  5980 | 153 |  3 | 240177 | Merseyside | -0.239 | -0.551 |  0.415 | -0.131 | -0.330 |\n",
       "\n"
      ],
      "text/plain": [
       "  StopCount StopCountDrugs LSOA21CD  Borough  PopulationLSOA BAME\n",
       "1 132       115            E01006434 Knowsley 1518           1.91\n",
       "2 109        92            E01006435 Knowsley 1524           3.35\n",
       "3 305       267            E01006436 Knowsley 1457           3.29\n",
       "4 639       520            E01006437 Knowsley 1387           3.03\n",
       "5  38        32            E01006438 Knowsley 1153           5.29\n",
       "6  25        18            E01006439 Knowsley 1657           2.96\n",
       "  IncomeDomainScore CrimeSum DrugCrimeSum MeanHousePrice PoliceDept StopCount_z\n",
       "1   932             228      23           123955         Merseyside  0.634     \n",
       "2   782             149      18           134664         Merseyside  0.446     \n",
       "3   613             307      58           111733         Merseyside  2.047     \n",
       "4  1649             921      72           119648         Merseyside  4.774     \n",
       "5 17818              91       7           331221         Merseyside -0.133     \n",
       "6  5980             153       3           240177         Merseyside -0.239     \n",
       "  BAME_z MeanHousePrice_z CrimeSum_z DrugCrimeSum_z\n",
       "1 -0.673 -0.769            0.151      0.382        \n",
       "2 -0.505 -0.660           -0.146      0.204        \n",
       "3 -0.512 -0.893            0.449      1.629        \n",
       "4 -0.542 -0.813            2.759      2.128        \n",
       "5 -0.279  1.342           -0.364     -0.188        \n",
       "6 -0.551  0.415           -0.131     -0.330        "
      ]
     },
     "metadata": {},
     "output_type": "display_data"
    }
   ],
   "source": [
    "dataset <- read.csv('../data/dataset2.csv')\n",
    "\n",
    "merseyside <- dataset %>% filter(PoliceDept == \"Merseyside\")\n",
    "london <- dataset %>% filter(PoliceDept == \"London\")\n",
    "\n",
    "head(merseyside)"
   ]
  },
  {
   "cell_type": "code",
   "execution_count": 27,
   "id": "26f2cb7d",
   "metadata": {
    "vscode": {
     "languageId": "r"
    }
   },
   "outputs": [
    {
     "data": {
      "text/plain": [
       "OLS estimation, Dep. Var.: StopCount_z\n",
       "Observations: 923\n",
       "Fixed-effects: Borough: 5\n",
       "Standard-errors: Clustered (Borough) \n",
       "                       Estimate Std. Error   t value   Pr(>|t|)    \n",
       "IncomeDomainScore  0.0000000898 0.00000158  0.056641 9.5755e-01    \n",
       "MeanHousePrice_z   0.0027600209 0.00914901  0.301674 7.7793e-01    \n",
       "CrimeSum_z        -0.1109387020 0.06352800 -1.746296 1.5569e-01    \n",
       "BAME_z             0.0737369356 0.00931544  7.915565 1.3784e-03 ** \n",
       "DrugCrimeSum_z     1.0009077971 0.04883804 20.494431 3.3477e-05 ***\n",
       "---\n",
       "Signif. codes:  0 '***' 0.001 '**' 0.01 '*' 0.05 '.' 0.1 ' ' 1\n",
       "RMSE: 0.391514     Adj. R2: 0.845032\n",
       "                 Within R2: 0.840916"
      ]
     },
     "metadata": {},
     "output_type": "display_data"
    }
   ],
   "source": [
    "# Load necessary library\n",
    "library(fixest)\n",
    "\n",
    "# Fit a fixed effects model with 'LSOA21CD' as the fixed effect\n",
    "model <- feols(StopCount_z ~ IncomeDomainScore + MeanHousePrice_z + CrimeSum_z + BAME_z + DrugCrimeSum_z | Borough, \n",
    "data = merseyside)\n",
    "\n",
    "# Summarise the model\n",
    "summary(model)\n"
   ]
  }
 ],
 "metadata": {
  "kernelspec": {
   "display_name": "R",
   "language": "R",
   "name": "ir"
  },
  "language_info": {
   "codemirror_mode": "r",
   "file_extension": ".r",
   "mimetype": "text/x-r-source",
   "name": "R",
   "pygments_lexer": "r",
   "version": "4.3.2"
  }
 },
 "nbformat": 4,
 "nbformat_minor": 5
}
