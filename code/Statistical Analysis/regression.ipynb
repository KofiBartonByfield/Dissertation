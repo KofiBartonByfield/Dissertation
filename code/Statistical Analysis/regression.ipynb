{
 "cells": [
  {
   "cell_type": "markdown",
   "id": "57a55b0d",
   "metadata": {},
   "source": [
    "# Regressions"
   ]
  },
  {
   "cell_type": "code",
   "execution_count": 39,
   "id": "ce796e49",
   "metadata": {
    "vscode": {
     "languageId": "r"
    }
   },
   "outputs": [
    {
     "name": "stderr",
     "output_type": "stream",
     "text": [
      "\n",
      "Attaching package: 'MASS'\n",
      "\n",
      "\n",
      "The following object is masked from 'package:dplyr':\n",
      "\n",
      "    select\n",
      "\n",
      "\n"
     ]
    }
   ],
   "source": [
    "library(dplyr)\n",
    "library(fixest)\n",
    "library(MASS)\n",
    "\n",
    "library(stargazer)"
   ]
  },
  {
   "cell_type": "markdown",
   "id": "c0c366ac",
   "metadata": {},
   "source": [
    "# Loading the Data"
   ]
  },
  {
   "cell_type": "code",
   "execution_count": 7,
   "id": "a342b682",
   "metadata": {
    "vscode": {
     "languageId": "r"
    }
   },
   "outputs": [
    {
     "data": {
      "text/html": [
       "<table class=\"dataframe\">\n",
       "<caption>A data.frame: 6 × 10</caption>\n",
       "<thead>\n",
       "\t<tr><th></th><th scope=col>LSOA21CD</th><th scope=col>Borough</th><th scope=col>StopCount_z</th><th scope=col>StopCount</th><th scope=col>PoliceDept</th><th scope=col>MeanHousePrice_z</th><th scope=col>CrimeSum_z</th><th scope=col>BAME_z</th><th scope=col>DrugCrimeSum_z</th><th scope=col>IncomeDomainScore_z</th></tr>\n",
       "\t<tr><th></th><th scope=col>&lt;chr&gt;</th><th scope=col>&lt;chr&gt;</th><th scope=col>&lt;dbl&gt;</th><th scope=col>&lt;dbl&gt;</th><th scope=col>&lt;chr&gt;</th><th scope=col>&lt;dbl&gt;</th><th scope=col>&lt;dbl&gt;</th><th scope=col>&lt;dbl&gt;</th><th scope=col>&lt;dbl&gt;</th><th scope=col>&lt;dbl&gt;</th></tr>\n",
       "</thead>\n",
       "<tbody>\n",
       "\t<tr><th scope=row>1</th><td>E01006434</td><td>Knowsley</td><td> 0.634</td><td>132</td><td>Merseyside</td><td>-0.769</td><td> 0.151</td><td>-0.673</td><td> 0.382</td><td>-1.087</td></tr>\n",
       "\t<tr><th scope=row>2</th><td>E01006435</td><td>Knowsley</td><td> 0.446</td><td>109</td><td>Merseyside</td><td>-0.660</td><td>-0.146</td><td>-0.505</td><td> 0.204</td><td>-1.102</td></tr>\n",
       "\t<tr><th scope=row>3</th><td>E01006436</td><td>Knowsley</td><td> 2.047</td><td>305</td><td>Merseyside</td><td>-0.893</td><td> 0.449</td><td>-0.512</td><td> 1.629</td><td>-1.119</td></tr>\n",
       "\t<tr><th scope=row>4</th><td>E01006437</td><td>Knowsley</td><td> 4.774</td><td>639</td><td>Merseyside</td><td>-0.813</td><td> 2.759</td><td>-0.542</td><td> 2.128</td><td>-1.015</td></tr>\n",
       "\t<tr><th scope=row>5</th><td>E01006438</td><td>Knowsley</td><td>-0.133</td><td> 38</td><td>Merseyside</td><td> 1.342</td><td>-0.364</td><td>-0.279</td><td>-0.188</td><td> 0.605</td></tr>\n",
       "\t<tr><th scope=row>6</th><td>E01006439</td><td>Knowsley</td><td>-0.239</td><td> 25</td><td>Merseyside</td><td> 0.415</td><td>-0.131</td><td>-0.551</td><td>-0.330</td><td>-0.581</td></tr>\n",
       "</tbody>\n",
       "</table>\n"
      ],
      "text/latex": [
       "A data.frame: 6 × 10\n",
       "\\begin{tabular}{r|llllllllll}\n",
       "  & LSOA21CD & Borough & StopCount\\_z & StopCount & PoliceDept & MeanHousePrice\\_z & CrimeSum\\_z & BAME\\_z & DrugCrimeSum\\_z & IncomeDomainScore\\_z\\\\\n",
       "  & <chr> & <chr> & <dbl> & <dbl> & <chr> & <dbl> & <dbl> & <dbl> & <dbl> & <dbl>\\\\\n",
       "\\hline\n",
       "\t1 & E01006434 & Knowsley &  0.634 & 132 & Merseyside & -0.769 &  0.151 & -0.673 &  0.382 & -1.087\\\\\n",
       "\t2 & E01006435 & Knowsley &  0.446 & 109 & Merseyside & -0.660 & -0.146 & -0.505 &  0.204 & -1.102\\\\\n",
       "\t3 & E01006436 & Knowsley &  2.047 & 305 & Merseyside & -0.893 &  0.449 & -0.512 &  1.629 & -1.119\\\\\n",
       "\t4 & E01006437 & Knowsley &  4.774 & 639 & Merseyside & -0.813 &  2.759 & -0.542 &  2.128 & -1.015\\\\\n",
       "\t5 & E01006438 & Knowsley & -0.133 &  38 & Merseyside &  1.342 & -0.364 & -0.279 & -0.188 &  0.605\\\\\n",
       "\t6 & E01006439 & Knowsley & -0.239 &  25 & Merseyside &  0.415 & -0.131 & -0.551 & -0.330 & -0.581\\\\\n",
       "\\end{tabular}\n"
      ],
      "text/markdown": [
       "\n",
       "A data.frame: 6 × 10\n",
       "\n",
       "| <!--/--> | LSOA21CD &lt;chr&gt; | Borough &lt;chr&gt; | StopCount_z &lt;dbl&gt; | StopCount &lt;dbl&gt; | PoliceDept &lt;chr&gt; | MeanHousePrice_z &lt;dbl&gt; | CrimeSum_z &lt;dbl&gt; | BAME_z &lt;dbl&gt; | DrugCrimeSum_z &lt;dbl&gt; | IncomeDomainScore_z &lt;dbl&gt; |\n",
       "|---|---|---|---|---|---|---|---|---|---|---|\n",
       "| 1 | E01006434 | Knowsley |  0.634 | 132 | Merseyside | -0.769 |  0.151 | -0.673 |  0.382 | -1.087 |\n",
       "| 2 | E01006435 | Knowsley |  0.446 | 109 | Merseyside | -0.660 | -0.146 | -0.505 |  0.204 | -1.102 |\n",
       "| 3 | E01006436 | Knowsley |  2.047 | 305 | Merseyside | -0.893 |  0.449 | -0.512 |  1.629 | -1.119 |\n",
       "| 4 | E01006437 | Knowsley |  4.774 | 639 | Merseyside | -0.813 |  2.759 | -0.542 |  2.128 | -1.015 |\n",
       "| 5 | E01006438 | Knowsley | -0.133 |  38 | Merseyside |  1.342 | -0.364 | -0.279 | -0.188 |  0.605 |\n",
       "| 6 | E01006439 | Knowsley | -0.239 |  25 | Merseyside |  0.415 | -0.131 | -0.551 | -0.330 | -0.581 |\n",
       "\n"
      ],
      "text/plain": [
       "  LSOA21CD  Borough  StopCount_z StopCount PoliceDept MeanHousePrice_z\n",
       "1 E01006434 Knowsley  0.634      132       Merseyside -0.769          \n",
       "2 E01006435 Knowsley  0.446      109       Merseyside -0.660          \n",
       "3 E01006436 Knowsley  2.047      305       Merseyside -0.893          \n",
       "4 E01006437 Knowsley  4.774      639       Merseyside -0.813          \n",
       "5 E01006438 Knowsley -0.133       38       Merseyside  1.342          \n",
       "6 E01006439 Knowsley -0.239       25       Merseyside  0.415          \n",
       "  CrimeSum_z BAME_z DrugCrimeSum_z IncomeDomainScore_z\n",
       "1  0.151     -0.673  0.382         -1.087             \n",
       "2 -0.146     -0.505  0.204         -1.102             \n",
       "3  0.449     -0.512  1.629         -1.119             \n",
       "4  2.759     -0.542  2.128         -1.015             \n",
       "5 -0.364     -0.279 -0.188          0.605             \n",
       "6 -0.131     -0.551 -0.330         -0.581             "
      ]
     },
     "metadata": {},
     "output_type": "display_data"
    },
    {
     "data": {
      "text/html": [
       "<table class=\"dataframe\">\n",
       "<caption>A data.frame: 6 × 10</caption>\n",
       "<thead>\n",
       "\t<tr><th></th><th scope=col>LSOA21CD</th><th scope=col>Borough</th><th scope=col>StopCount_z</th><th scope=col>StopCount</th><th scope=col>PoliceDept</th><th scope=col>MeanHousePrice_z</th><th scope=col>CrimeSum_z</th><th scope=col>BAME_z</th><th scope=col>DrugCrimeSum_z</th><th scope=col>IncomeDomainScore_z</th></tr>\n",
       "\t<tr><th></th><th scope=col>&lt;chr&gt;</th><th scope=col>&lt;chr&gt;</th><th scope=col>&lt;dbl&gt;</th><th scope=col>&lt;dbl&gt;</th><th scope=col>&lt;chr&gt;</th><th scope=col>&lt;dbl&gt;</th><th scope=col>&lt;dbl&gt;</th><th scope=col>&lt;dbl&gt;</th><th scope=col>&lt;dbl&gt;</th><th scope=col>&lt;dbl&gt;</th></tr>\n",
       "</thead>\n",
       "<tbody>\n",
       "\t<tr><th scope=row>1</th><td>E01000001</td><td>City of London</td><td>-0.095</td><td>25</td><td>London</td><td> 0.580</td><td>-0.564</td><td>-1.353</td><td>-0.435</td><td> 2.193</td></tr>\n",
       "\t<tr><th scope=row>2</th><td>E01000002</td><td>City of London</td><td>-0.394</td><td> 2</td><td>London</td><td> 0.749</td><td>-0.484</td><td>-1.251</td><td>-0.435</td><td> 1.851</td></tr>\n",
       "\t<tr><th scope=row>3</th><td>E01000003</td><td>City of London</td><td>-0.368</td><td> 4</td><td>London</td><td>-0.176</td><td>-0.619</td><td>-1.033</td><td>-0.435</td><td> 0.494</td></tr>\n",
       "\t<tr><th scope=row>4</th><td>E01000005</td><td>City of London</td><td> 0.230</td><td>50</td><td>London</td><td> 0.000</td><td>-0.174</td><td> 0.871</td><td>-0.251</td><td>-1.042</td></tr>\n",
       "\t<tr><th scope=row>5</th><td>E01032739</td><td>City of London</td><td> 0.543</td><td>74</td><td>London</td><td> 0.805</td><td> 2.033</td><td>-0.693</td><td> 0.545</td><td> 2.171</td></tr>\n",
       "\t<tr><th scope=row>6</th><td>E01032740</td><td>City of London</td><td>-0.251</td><td>13</td><td>London</td><td> 0.525</td><td> 0.539</td><td>-0.806</td><td> 0.055</td><td> 2.071</td></tr>\n",
       "</tbody>\n",
       "</table>\n"
      ],
      "text/latex": [
       "A data.frame: 6 × 10\n",
       "\\begin{tabular}{r|llllllllll}\n",
       "  & LSOA21CD & Borough & StopCount\\_z & StopCount & PoliceDept & MeanHousePrice\\_z & CrimeSum\\_z & BAME\\_z & DrugCrimeSum\\_z & IncomeDomainScore\\_z\\\\\n",
       "  & <chr> & <chr> & <dbl> & <dbl> & <chr> & <dbl> & <dbl> & <dbl> & <dbl> & <dbl>\\\\\n",
       "\\hline\n",
       "\t1 & E01000001 & City of London & -0.095 & 25 & London &  0.580 & -0.564 & -1.353 & -0.435 &  2.193\\\\\n",
       "\t2 & E01000002 & City of London & -0.394 &  2 & London &  0.749 & -0.484 & -1.251 & -0.435 &  1.851\\\\\n",
       "\t3 & E01000003 & City of London & -0.368 &  4 & London & -0.176 & -0.619 & -1.033 & -0.435 &  0.494\\\\\n",
       "\t4 & E01000005 & City of London &  0.230 & 50 & London &  0.000 & -0.174 &  0.871 & -0.251 & -1.042\\\\\n",
       "\t5 & E01032739 & City of London &  0.543 & 74 & London &  0.805 &  2.033 & -0.693 &  0.545 &  2.171\\\\\n",
       "\t6 & E01032740 & City of London & -0.251 & 13 & London &  0.525 &  0.539 & -0.806 &  0.055 &  2.071\\\\\n",
       "\\end{tabular}\n"
      ],
      "text/markdown": [
       "\n",
       "A data.frame: 6 × 10\n",
       "\n",
       "| <!--/--> | LSOA21CD &lt;chr&gt; | Borough &lt;chr&gt; | StopCount_z &lt;dbl&gt; | StopCount &lt;dbl&gt; | PoliceDept &lt;chr&gt; | MeanHousePrice_z &lt;dbl&gt; | CrimeSum_z &lt;dbl&gt; | BAME_z &lt;dbl&gt; | DrugCrimeSum_z &lt;dbl&gt; | IncomeDomainScore_z &lt;dbl&gt; |\n",
       "|---|---|---|---|---|---|---|---|---|---|---|\n",
       "| 1 | E01000001 | City of London | -0.095 | 25 | London |  0.580 | -0.564 | -1.353 | -0.435 |  2.193 |\n",
       "| 2 | E01000002 | City of London | -0.394 |  2 | London |  0.749 | -0.484 | -1.251 | -0.435 |  1.851 |\n",
       "| 3 | E01000003 | City of London | -0.368 |  4 | London | -0.176 | -0.619 | -1.033 | -0.435 |  0.494 |\n",
       "| 4 | E01000005 | City of London |  0.230 | 50 | London |  0.000 | -0.174 |  0.871 | -0.251 | -1.042 |\n",
       "| 5 | E01032739 | City of London |  0.543 | 74 | London |  0.805 |  2.033 | -0.693 |  0.545 |  2.171 |\n",
       "| 6 | E01032740 | City of London | -0.251 | 13 | London |  0.525 |  0.539 | -0.806 |  0.055 |  2.071 |\n",
       "\n"
      ],
      "text/plain": [
       "  LSOA21CD  Borough        StopCount_z StopCount PoliceDept MeanHousePrice_z\n",
       "1 E01000001 City of London -0.095      25        London      0.580          \n",
       "2 E01000002 City of London -0.394       2        London      0.749          \n",
       "3 E01000003 City of London -0.368       4        London     -0.176          \n",
       "4 E01000005 City of London  0.230      50        London      0.000          \n",
       "5 E01032739 City of London  0.543      74        London      0.805          \n",
       "6 E01032740 City of London -0.251      13        London      0.525          \n",
       "  CrimeSum_z BAME_z DrugCrimeSum_z IncomeDomainScore_z\n",
       "1 -0.564     -1.353 -0.435          2.193             \n",
       "2 -0.484     -1.251 -0.435          1.851             \n",
       "3 -0.619     -1.033 -0.435          0.494             \n",
       "4 -0.174      0.871 -0.251         -1.042             \n",
       "5  2.033     -0.693  0.545          2.171             \n",
       "6  0.539     -0.806  0.055          2.071             "
      ]
     },
     "metadata": {},
     "output_type": "display_data"
    }
   ],
   "source": [
    "dataset <- read.csv('../../Data/Data Sets/cleaned_dataset.csv')\n",
    "\n",
    "merseyside <- dataset %>% filter(PoliceDept == \"Merseyside\")\n",
    "london <- dataset %>% filter(PoliceDept == \"London\")\n",
    "\n",
    "head(merseyside)\n",
    "head(london)"
   ]
  },
  {
   "cell_type": "markdown",
   "id": "72b5d905",
   "metadata": {},
   "source": [
    "# Model Selection"
   ]
  },
  {
   "cell_type": "markdown",
   "id": "529f4f3e",
   "metadata": {},
   "source": [
    "**choosing between:**\n",
    "- Linear Regression\n",
    "- Poisson Regression\n",
    "- negative binomial\n",
    "\n",
    "(all fixed effects on borough)"
   ]
  },
  {
   "cell_type": "code",
   "execution_count": null,
   "id": "bc625c9d",
   "metadata": {
    "vscode": {
     "languageId": "r"
    }
   },
   "outputs": [
    {
     "name": "stderr",
     "output_type": "stream",
     "text": [
      "Warning message:\n",
      "\"glm.fit: algorithm did not converge\"\n"
     ]
    }
   ],
   "source": [
    "# normal poisson model\n",
    "poisson_model <- glm(StopCount ~ IncomeDomainScore_z + MeanHousePrice_z + CrimeSum_z + BAME_z + DrugCrimeSum_z,\n",
    "                     data = london, \n",
    "                     family = poisson)\n",
    "\n",
    "negbin_model <- glm.nb(StopCount ~ IncomeDomainScore_z + MeanHousePrice_z + CrimeSum_z + BAME_z + DrugCrimeSum_z,\n",
    "                     data = london)\n",
    "\n",
    "#Warning message:\n",
    "\"glm.fit: algorithm did not converge\""
   ]
  },
  {
   "cell_type": "code",
   "execution_count": 35,
   "id": "1e135d11",
   "metadata": {
    "vscode": {
     "languageId": "r"
    }
   },
   "outputs": [],
   "source": [
    "poisson_model <- fepois(StopCount ~ IncomeDomainScore_z + MeanHousePrice_z + CrimeSum_z + BAME_z + DrugCrimeSum_z | Borough,\n",
    "                        data = london)\n",
    "\n",
    "negbin_model <- fenegbin(StopCount ~ IncomeDomainScore_z + MeanHousePrice_z + CrimeSum_z + BAME_z + DrugCrimeSum_z | Borough,\n",
    "                        data = london)"
   ]
  },
  {
   "cell_type": "code",
   "execution_count": 41,
   "metadata": {
    "vscode": {
     "languageId": "r"
    }
   },
   "outputs": [
    {
     "data": {
      "text/plain": [
       "\n",
       "Call:\n",
       "glm(formula = StopCount ~ IncomeDomainScore_z + MeanHousePrice_z + \n",
       "    CrimeSum_z + BAME_z + DrugCrimeSum_z, family = poisson, data = london)\n",
       "\n",
       "Coefficients:\n",
       "                     Estimate Std. Error z value Pr(>|z|)    \n",
       "(Intercept)          3.344667   0.002760 1211.91   <2e-16 ***\n",
       "IncomeDomainScore_z -0.234039   0.003330  -70.27   <2e-16 ***\n",
       "MeanHousePrice_z     0.095383   0.002338   40.80   <2e-16 ***\n",
       "CrimeSum_z           0.177904   0.001602  111.07   <2e-16 ***\n",
       "BAME_z               0.220871   0.002991   73.86   <2e-16 ***\n",
       "DrugCrimeSum_z      -0.027757   0.001360  -20.40   <2e-16 ***\n",
       "---\n",
       "Signif. codes:  0 '***' 0.001 '**' 0.01 '*' 0.05 '.' 0.1 ' ' 1\n",
       "\n",
       "(Dispersion parameter for poisson family taken to be 1)\n",
       "\n",
       "    Null deviance: 287836  on 4993  degrees of freedom\n",
       "Residual deviance: 206475  on 4988  degrees of freedom\n",
       "AIC: 228422\n",
       "\n",
       "Number of Fisher Scoring iterations: 6\n"
      ]
     },
     "metadata": {},
     "output_type": "display_data"
    },
    {
     "data": {
      "text/plain": [
       "\n",
       "Call:\n",
       "glm.nb(formula = StopCount ~ IncomeDomainScore_z + MeanHousePrice_z + \n",
       "    CrimeSum_z + BAME_z + DrugCrimeSum_z, data = london, init.theta = 0.957039931, \n",
       "    link = log)\n",
       "\n",
       "Coefficients:\n",
       "                    Estimate Std. Error z value Pr(>|z|)    \n",
       "(Intercept)          3.19269    0.01480 215.730  < 2e-16 ***\n",
       "IncomeDomainScore_z -0.19577    0.01903 -10.288  < 2e-16 ***\n",
       "MeanHousePrice_z     0.07320    0.01646   4.447 8.72e-06 ***\n",
       "CrimeSum_z           0.23522    0.02825   8.326  < 2e-16 ***\n",
       "BAME_z               0.20955    0.01801  11.633  < 2e-16 ***\n",
       "DrugCrimeSum_z       0.58703    0.02802  20.947  < 2e-16 ***\n",
       "---\n",
       "Signif. codes:  0 '***' 0.001 '**' 0.01 '*' 0.05 '.' 0.1 ' ' 1\n",
       "\n",
       "(Dispersion parameter for Negative Binomial(0.957) family taken to be 1)\n",
       "\n",
       "    Null deviance: 8327.4  on 4993  degrees of freedom\n",
       "Residual deviance: 5701.3  on 4988  degrees of freedom\n",
       "AIC: 42117\n",
       "\n",
       "Number of Fisher Scoring iterations: 1\n",
       "\n",
       "\n",
       "              Theta:  0.9570 \n",
       "          Std. Err.:  0.0186 \n",
       "\n",
       " 2 x log-likelihood:  -42103.2890 "
      ]
     },
     "metadata": {},
     "output_type": "display_data"
    }
   ],
   "source": [
    "summary(poisson_model)\n",
    "summary(negbin_model)"
   ]
  },
  {
   "cell_type": "code",
   "execution_count": 34,
   "id": "8313c911",
   "metadata": {
    "vscode": {
     "languageId": "r"
    }
   },
   "outputs": [
    {
     "data": {
      "text/html": [
       "<style>\n",
       ".list-inline {list-style: none; margin:0; padding: 0}\n",
       ".list-inline>li {display: inline-block}\n",
       ".list-inline>li:not(:last-child)::after {content: \"\\00b7\"; padding: 0 .5ex}\n",
       "</style>\n",
       "<ol class=list-inline><li>9896.08148634407</li><li>214098.84288984</li><li>41751.3328189532</li></ol>\n"
      ],
      "text/latex": [
       "\\begin{enumerate*}\n",
       "\\item 9896.08148634407\n",
       "\\item 214098.84288984\n",
       "\\item 41751.3328189532\n",
       "\\end{enumerate*}\n"
      ],
      "text/markdown": [
       "1. 9896.08148634407\n",
       "2. 214098.84288984\n",
       "3. 41751.3328189532\n",
       "\n",
       "\n"
      ],
      "text/plain": [
       "[1]   9896.081 214098.843  41751.333"
      ]
     },
     "metadata": {},
     "output_type": "display_data"
    },
    {
     "data": {
      "text/html": [
       "<style>\n",
       ".list-inline {list-style: none; margin:0; padding: 0}\n",
       ".list-inline>li {display: inline-block}\n",
       ".list-inline>li:not(:last-child)::after {content: \"\\00b7\"; padding: 0 .5ex}\n",
       "</style>\n",
       "<ol class=list-inline><li>10143.689200236</li><li>214346.450603732</li><li>41998.9405328451</li></ol>\n"
      ],
      "text/latex": [
       "\\begin{enumerate*}\n",
       "\\item 10143.689200236\n",
       "\\item 214346.450603732\n",
       "\\item 41998.9405328451\n",
       "\\end{enumerate*}\n"
      ],
      "text/markdown": [
       "1. 10143.689200236\n",
       "2. 214346.450603732\n",
       "3. 41998.9405328451\n",
       "\n",
       "\n"
      ],
      "text/plain": [
       "[1]  10143.69 214346.45  41998.94"
      ]
     },
     "metadata": {},
     "output_type": "display_data"
    }
   ],
   "source": [
    "AIC(ols_model, poisson_model, negbin_model)\n",
    "BIC(ols_model, poisson_model, negbin_model)"
   ]
  },
  {
   "cell_type": "code",
   "execution_count": 37,
   "id": "25efb1e2",
   "metadata": {
    "vscode": {
     "languageId": "r"
    }
   },
   "outputs": [
    {
     "name": "stderr",
     "output_type": "stream",
     "text": [
      "Warning message:\n",
      "\"package 'AER' was built under R version 4.3.3\"\n",
      "Loading required package: car\n",
      "\n",
      "Warning message:\n",
      "\"package 'car' was built under R version 4.3.3\"\n",
      "Loading required package: carData\n",
      "\n",
      "Warning message:\n",
      "\"package 'carData' was built under R version 4.3.3\"\n",
      "\n",
      "Attaching package: 'car'\n",
      "\n",
      "\n",
      "The following object is masked from 'package:dplyr':\n",
      "\n",
      "    recode\n",
      "\n",
      "\n",
      "Loading required package: lmtest\n",
      "\n",
      "Warning message:\n",
      "\"package 'lmtest' was built under R version 4.3.3\"\n",
      "Loading required package: zoo\n",
      "\n",
      "Warning message:\n",
      "\"package 'zoo' was built under R version 4.3.3\"\n",
      "\n",
      "Attaching package: 'zoo'\n",
      "\n",
      "\n",
      "The following objects are masked from 'package:base':\n",
      "\n",
      "    as.Date, as.Date.numeric\n",
      "\n",
      "\n",
      "Loading required package: sandwich\n",
      "\n",
      "Warning message:\n",
      "\"package 'sandwich' was built under R version 4.3.3\"\n",
      "Loading required package: survival\n",
      "\n"
     ]
    },
    {
     "ename": "ERROR",
     "evalue": "Error in dispersiontest(poisson_model): only Poisson GLMs can be tested\n",
     "output_type": "error",
     "traceback": [
      "Error in dispersiontest(poisson_model): only Poisson GLMs can be tested\nTraceback:\n",
      "1. dispersiontest(poisson_model)",
      "2. stop(\"only Poisson GLMs can be tested\")"
     ]
    }
   ],
   "source": [
    "library(AER)\n",
    "dispersiontest(poisson_model)\n"
   ]
  },
  {
   "cell_type": "code",
   "execution_count": null,
   "metadata": {
    "vscode": {
     "languageId": "r"
    }
   },
   "outputs": [
    {
     "data": {
      "text/html": [
       "54.3141928494041"
      ],
      "text/latex": [
       "54.3141928494041"
      ],
      "text/markdown": [
       "54.3141928494041"
      ],
      "text/plain": [
       "[1] 54.31419"
      ]
     },
     "metadata": {},
     "output_type": "display_data"
    },
    {
     "data": {
      "text/html": [
       "15002.141956696"
      ],
      "text/latex": [
       "15002.141956696"
      ],
      "text/markdown": [
       "15002.141956696"
      ],
      "text/plain": [
       "[1] 15002.14"
      ]
     },
     "metadata": {},
     "output_type": "display_data"
    },
    {
     "data": {
      "text/html": [
       "-0.443"
      ],
      "text/latex": [
       "-0.443"
      ],
      "text/markdown": [
       "-0.443"
      ],
      "text/plain": [
       "[1] -0.443"
      ]
     },
     "metadata": {},
     "output_type": "display_data"
    },
    {
     "data": {
      "text/html": [
       "<style>\n",
       ".list-inline {list-style: none; margin:0; padding: 0}\n",
       ".list-inline>li {display: inline-block}\n",
       ".list-inline>li:not(:last-child)::after {content: \"\\00b7\"; padding: 0 .5ex}\n",
       "</style>\n",
       "<ol class=list-inline><li>214098.84288984</li><li>41751.3328189532</li></ol>\n"
      ],
      "text/latex": [
       "\\begin{enumerate*}\n",
       "\\item 214098.84288984\n",
       "\\item 41751.3328189532\n",
       "\\end{enumerate*}\n"
      ],
      "text/markdown": [
       "1. 214098.84288984\n",
       "2. 41751.3328189532\n",
       "\n",
       "\n"
      ],
      "text/plain": [
       "[1] 214098.84  41751.33"
      ]
     },
     "metadata": {},
     "output_type": "display_data"
    }
   ],
   "source": [
    "mean(merseyside$StopCount)\n",
    "var(merseyside$StopCount)\n",
    "\n",
    "\n",
    "AIC(poisson_model, negbin_model)\n"
   ]
  },
  {
   "cell_type": "code",
   "execution_count": null,
   "metadata": {
    "vscode": {
     "languageId": "r"
    }
   },
   "outputs": [],
   "source": []
  },
  {
   "cell_type": "code",
   "execution_count": 3,
   "id": "26f2cb7d",
   "metadata": {
    "vscode": {
     "languageId": "r"
    }
   },
   "outputs": [
    {
     "name": "stderr",
     "output_type": "stream",
     "text": [
      "Warning message:\n",
      "\"package 'fixest' was built under R version 4.3.3\"\n"
     ]
    },
    {
     "data": {
      "text/plain": [
       "OLS estimation, Dep. Var.: StopCount_z\n",
       "Observations: 923\n",
       "Fixed-effects: Borough: 5\n",
       "Standard-errors: Clustered (Borough) \n",
       "                       Estimate Std. Error   t value   Pr(>|t|)    \n",
       "IncomeDomainScore  0.0000000898 0.00000158  0.056641 9.5755e-01    \n",
       "MeanHousePrice_z   0.0027600209 0.00914901  0.301674 7.7793e-01    \n",
       "CrimeSum_z        -0.1109387020 0.06352800 -1.746296 1.5569e-01    \n",
       "BAME_z             0.0737369356 0.00931544  7.915565 1.3784e-03 ** \n",
       "DrugCrimeSum_z     1.0009077971 0.04883804 20.494431 3.3477e-05 ***\n",
       "---\n",
       "Signif. codes:  0 '***' 0.001 '**' 0.01 '*' 0.05 '.' 0.1 ' ' 1\n",
       "RMSE: 0.391514     Adj. R2: 0.845032\n",
       "                 Within R2: 0.840916"
      ]
     },
     "metadata": {},
     "output_type": "display_data"
    }
   ],
   "source": [
    "# Load necessary library\n",
    "library(fixest)\n",
    "\n",
    "# Fit a fixed effects model with 'LSOA21CD' as the fixed effect\n",
    "model <- feols(StopCount_z ~ IncomeDomainScore + MeanHousePrice_z + CrimeSum_z + BAME_z + DrugCrimeSum_z | Borough, \n",
    "data = merseyside)\n",
    "\n",
    "# Summarise the model\n",
    "summary(model)\n"
   ]
  },
  {
   "cell_type": "code",
   "execution_count": 28,
   "id": "95d96ef4",
   "metadata": {
    "vscode": {
     "languageId": "r"
    }
   },
   "outputs": [
    {
     "data": {
      "text/plain": [
       "Poisson estimation, Dep. Var.: StopCount\n",
       "Observations: 923\n",
       "Fixed-effects: Borough: 5\n",
       "Standard-errors: Clustered (Borough) \n",
       "                   Estimate Std. Error   z value   Pr(>|z|)    \n",
       "IncomeDomainScore -0.000037   0.000022 -1.651806 9.8574e-02 .  \n",
       "MeanHousePrice_z  -0.323193   0.149856 -2.156688 3.1030e-02 *  \n",
       "CrimeSum_z        -0.007119   0.069291 -0.102739 9.1817e-01    \n",
       "BAME_z             0.188839   0.017336 10.892705  < 2.2e-16 ***\n",
       "DrugCrimeSum_z     0.268332   0.036750  7.301580 2.8441e-13 ***\n",
       "---\n",
       "Signif. codes:  0 '***' 0.001 '**' 0.01 '*' 0.05 '.' 0.1 ' ' 1\n",
       "Log-Likelihood: -21,772.2   Adj. Pseudo R2: 0.558184\n",
       "           BIC:  43,612.7     Squared Cor.: 0.623977"
      ]
     },
     "metadata": {},
     "output_type": "display_data"
    }
   ],
   "source": [
    "library(fixest)\n",
    "\n",
    "# Use the actual count, not the z-score, as outcome\n",
    "model_pois <- fepois(StopCount ~ IncomeDomainScore + MeanHousePrice_z + CrimeSum_z + BAME_z + DrugCrimeSum_z | Borough,\n",
    "                     data = merseyside)\n",
    "\n",
    "summary(model_pois)\n"
   ]
  },
  {
   "cell_type": "code",
   "execution_count": 6,
   "id": "03fc392a",
   "metadata": {
    "vscode": {
     "languageId": "r"
    }
   },
   "outputs": [
    {
     "data": {
      "text/plain": [
       "ML estimation, family = Negative Binomial, Dep. Var.: StopCount\n",
       "Observations: 923\n",
       "Fixed-effects: Borough: 5\n",
       "Standard-errors: Clustered (Borough) \n",
       "                   Estimate Std. Error  z value   Pr(>|z|)    \n",
       "IncomeDomainScore -0.000044 0.00000937 -4.74310 2.1047e-06 ***\n",
       "MeanHousePrice_z  -0.064860 0.04420109 -1.46738 1.4227e-01    \n",
       "CrimeSum_z        -0.185603 0.17468895 -1.06248 2.8802e-01    \n",
       "BAME_z             0.420807 0.07051161  5.96790 2.4032e-09 ***\n",
       "DrugCrimeSum_z     0.894557 0.25151928  3.55661 3.7567e-04 ***\n",
       "---\n",
       "Signif. codes:  0 '***' 0.001 '**' 0.01 '*' 0.05 '.' 0.1 ' ' 1\n",
       "Over-dispersion parameter: theta = 1.352511  \n",
       "Log-Likelihood: -4,115.3   Adj. Pseudo R2: 0.091695\n",
       "           BIC:  8,298.8     Squared Cor.: 0.320655"
      ]
     },
     "metadata": {},
     "output_type": "display_data"
    },
    {
     "data": {
      "text/plain": [
       "ML estimation, family = Negative Binomial, Dep. Var.: StopCount\n",
       "Observations: 4,994\n",
       "Fixed-effects: Borough: 33\n",
       "Standard-errors: Clustered (Borough) \n",
       "                   Estimate Std. Error   z value   Pr(>|z|)    \n",
       "IncomeDomainScore -0.000011 0.00000460 -2.415931 1.5695e-02 *  \n",
       "MeanHousePrice_z  -0.011520 0.04262145 -0.270290 7.8694e-01    \n",
       "CrimeSum_z         0.253538 0.07384298  3.433474 5.9590e-04 ***\n",
       "BAME_z             0.277677 0.04801988  5.782546 7.3578e-09 ***\n",
       "DrugCrimeSum_z     0.537849 0.05285899 10.175169  < 2.2e-16 ***\n",
       "---\n",
       "Signif. codes:  0 '***' 0.001 '**' 0.01 '*' 0.05 '.' 0.1 ' ' 1\n",
       "Over-dispersion parameter: theta = 1.034285  \n",
       "Log-Likelihood: -20,837.7   Adj. Pseudo R2: 0.05706 \n",
       "           BIC:  41,998.9     Squared Cor.: 0.177017"
      ]
     },
     "metadata": {},
     "output_type": "display_data"
    }
   ],
   "source": [
    "model_nb <- fenegbin(StopCount ~ IncomeDomainScore + MeanHousePrice_z + CrimeSum_z + BAME_z + DrugCrimeSum_z | Borough,\n",
    "                     data = merseyside)\n",
    "\n",
    "summary(model_nb)\n",
    "\n",
    "model_nb <- fenegbin(StopCount ~ IncomeDomainScore + MeanHousePrice_z + CrimeSum_z + BAME_z + DrugCrimeSum_z | Borough,\n",
    "                     data = london)\n",
    "\n",
    "summary(model_nb)\n"
   ]
  },
  {
   "cell_type": "code",
   "execution_count": 7,
   "id": "0d748608",
   "metadata": {
    "vscode": {
     "languageId": "r"
    }
   },
   "outputs": [
    {
     "data": {
      "text/plain": [
       "ML estimation, family = Negative Binomial, Dep. Var.: StopCount\n",
       "Observations: 923\n",
       "Fixed-effects: Borough: 5\n",
       "Standard-errors: Clustered (Borough) \n",
       "                          Estimate Std. Error  z value   Pr(>|z|)    \n",
       "IncomeDomainScore        -0.000039 0.00001809 -2.13139 0.03305725 *  \n",
       "MeanHousePrice_z         -0.054772 0.03561125 -1.53804 0.12403851    \n",
       "CrimeSum_z               -0.189323 0.16127656 -1.17390 0.24043372    \n",
       "BAME_z                    0.174682 0.01888372  9.25042  < 2.2e-16 ***\n",
       "DrugCrimeSum_z            0.944381 0.28748308  3.28500 0.00101983 ** \n",
       "IncomeDomainScore:BAME_z  0.000030 0.00000773  3.84446 0.00012082 ***\n",
       "---\n",
       "Signif. codes:  0 '***' 0.001 '**' 0.01 '*' 0.05 '.' 0.1 ' ' 1\n",
       "Over-dispersion parameter: theta = 1.414544  \n",
       "Log-Likelihood: -4,094.5   Adj. Pseudo R2: 0.09606 \n",
       "           BIC:  8,264.0     Squared Cor.: 0.316299"
      ]
     },
     "metadata": {},
     "output_type": "display_data"
    },
    {
     "data": {
      "text/plain": [
       "ML estimation, family = Negative Binomial, Dep. Var.: StopCount\n",
       "Observations: 4,994\n",
       "Fixed-effects: Borough: 33\n",
       "Standard-errors: Clustered (Borough) \n",
       "                            Estimate Std. Error   z value   Pr(>|z|)    \n",
       "IncomeDomainScore        -0.00000616 0.00000483 -1.274457 0.20250140    \n",
       "MeanHousePrice_z         -0.00068233 0.04426585 -0.015414 0.98770157    \n",
       "CrimeSum_z                0.24711499 0.07696828  3.210608 0.00132454 ** \n",
       "BAME_z                    0.07241292 0.05999964  1.206889 0.22747479    \n",
       "DrugCrimeSum_z            0.57440044 0.05580889 10.292276  < 2.2e-16 ***\n",
       "IncomeDomainScore:BAME_z  0.00001438 0.00000377  3.813774 0.00013686 ***\n",
       "---\n",
       "Signif. codes:  0 '***' 0.001 '**' 0.01 '*' 0.05 '.' 0.1 ' ' 1\n",
       "Over-dispersion parameter: theta = 1.043701  \n",
       "Log-Likelihood: -20,813.3   Adj. Pseudo R2: 0.058117\n",
       "           BIC:  41,958.7     Squared Cor.: 0.177013"
      ]
     },
     "metadata": {},
     "output_type": "display_data"
    }
   ],
   "source": [
    "model_nb <- fenegbin(StopCount ~ IncomeDomainScore + MeanHousePrice_z + CrimeSum_z + BAME_z + DrugCrimeSum_z + BAME_z*IncomeDomainScore| Borough,\n",
    "                     data = merseyside)\n",
    "\n",
    "summary(model_nb)\n",
    "\n",
    "model_nb <- fenegbin(StopCount ~ IncomeDomainScore + MeanHousePrice_z + CrimeSum_z + BAME_z + DrugCrimeSum_z + BAME_z*IncomeDomainScore| Borough,\n",
    "                     data = london)\n",
    "\n",
    "summary(model_nb)"
   ]
  },
  {
   "cell_type": "markdown",
   "id": "12a401bc",
   "metadata": {},
   "source": [
    "stop counts increase more sharply in deprived areas where the BAME population is higher."
   ]
  },
  {
   "cell_type": "code",
   "execution_count": null,
   "id": "2e0bce83",
   "metadata": {
    "vscode": {
     "languageId": "r"
    }
   },
   "outputs": [],
   "source": []
  }
 ],
 "metadata": {
  "kernelspec": {
   "display_name": "R",
   "language": "R",
   "name": "ir"
  },
  "language_info": {
   "codemirror_mode": "r",
   "file_extension": ".r",
   "mimetype": "text/x-r-source",
   "name": "R",
   "pygments_lexer": "r",
   "version": "4.3.2"
  }
 },
 "nbformat": 4,
 "nbformat_minor": 5
}
